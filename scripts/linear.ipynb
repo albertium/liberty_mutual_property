{
 "cells": [
  {
   "cell_type": "code",
   "execution_count": null,
   "metadata": {
    "collapsed": true
   },
   "outputs": [],
   "source": [
    "\"\"\"\n",
    "features, shape, iter, cv, public\n",
    "01, raw+kmeans+encode, 207, 610, 0.37186, 0.371688\n",
    "02, raw+kmeans,\n",
    "03, raw, 111, 805, 0.38474, 0.382972\n",
    "04, cat+reduce, 236, 1205, 0.370010,\n",
    "05, raw numeric no norm, 111, 676, 0.385506, 0.382042\n",
    "06, cat+discrete, 390, 1294, 0.361520\n",
    "07, raw+reduce, 252, 909, 0.383301\n",
    "08, raw+ranking, 1387, 0.384005, 0.382578\n",
    "\"\"\""
   ]
  },
  {
   "cell_type": "code",
   "execution_count": 2,
   "metadata": {
    "collapsed": false
   },
   "outputs": [
    {
     "name": "stdout",
     "output_type": "stream",
     "text": [
      "The autoreload extension is already loaded. To reload it, use:\n",
      "  %reload_ext autoreload\n"
     ]
    }
   ],
   "source": [
    "%load_ext autoreload\n",
    "%autoreload 2\n",
    "import pandas as pd\n",
    "import numpy as np\n",
    "import xgboost as xgb\n",
    "import vw_utils as vw\n",
    "%matplotlib inline"
   ]
  },
  {
   "cell_type": "code",
   "execution_count": 3,
   "metadata": {
    "collapsed": false
   },
   "outputs": [],
   "source": [
    "train = pd.read_csv('../data/train.csv')\n",
    "test = pd.read_csv('../data/test.csv')\n",
    "\n",
    "selected = np.random.rand(train.shape[0]) < 0.8"
   ]
  },
  {
   "cell_type": "code",
   "execution_count": 4,
   "metadata": {
    "collapsed": false
   },
   "outputs": [],
   "source": [
    "# ETL\n",
    "ID = test.Id.values\n",
    "\n",
    "categorical = ['T1_V' + str(i) for i in list(range(4, 10)) + [11, 12, 15, 16, 17]] + \\\n",
    "                ['T2_V' + str(i) for i in [3, 5, 11, 12, 13]]\n",
    "\n",
    "numeric = set(train.columns).difference(categorical + ['Hazard', 'Id'])\n",
    "numeric = list(numeric)"
   ]
  },
  {
   "cell_type": "code",
   "execution_count": 5,
   "metadata": {
    "collapsed": false
   },
   "outputs": [
    {
     "name": "stderr",
     "output_type": "stream",
     "text": [
      "/home/albertium/anaconda3/lib/python3.4/site-packages/sklearn/utils/validation.py:498: UserWarning: StandardScaler assumes floating point values as input, got int64\n",
      "  \"got %s\" % (estimator, X.dtype))\n"
     ]
    }
   ],
   "source": [
    "from sklearn.preprocessing import StandardScaler\n",
    "\n",
    "SS = StandardScaler()\n",
    "train_c = train.copy()\n",
    "train_c[numeric] = SS.fit_transform(train_c[numeric])"
   ]
  },
  {
   "cell_type": "code",
   "execution_count": 6,
   "metadata": {
    "collapsed": false
   },
   "outputs": [
    {
     "data": {
      "text/plain": [
       "{'flag': 0, 'gini': 0.33718241407489669}"
      ]
     },
     "execution_count": 6,
     "metadata": {},
     "output_type": "execute_result"
    }
   ],
   "source": [
    "# 13.712\n",
    "X = {'cat': {'A': categorical},\n",
    "     'num': {'B': numeric}}\n",
    "\n",
    "# 13.554\n",
    "# X = {'cat': {'A': categorical+numeric}}\n",
    "\n",
    "vw.pd2vw(train_c, X, label='Hazard', out='train.vw')\n",
    "vw.vwRegress('train.vw', out='linear1', passes=10, l1=1E-6, l2=1E-7)\n",
    "vw.vwPredict('train.vw', model='linear1', metric=True)"
   ]
  },
  {
   "cell_type": "code",
   "execution_count": 92,
   "metadata": {
    "collapsed": false
   },
   "outputs": [],
   "source": [
    "yhat = model.predict(dTest)\n",
    "pd.DataFrame({'Id': ID, 'Hazard': yhat}).reindex_axis(['Id', 'Hazard'], 1).to_csv('../output/pred08.csv', index=0)"
   ]
  },
  {
   "cell_type": "markdown",
   "metadata": {},
   "source": [
    "------------------------------------Separator ----------------------------------"
   ]
  },
  {
   "cell_type": "code",
   "execution_count": 5,
   "metadata": {
    "collapsed": false
   },
   "outputs": [],
   "source": [
    "# count features\n",
    "\n",
    "count_features = {}\n",
    "for cat in categorical:\n",
    "    count_features[cat] = train[cat].value_counts().reset_index().rename(columns={'index': cat, 0: cat+'_cnt'})\n",
    "\n",
    "tmp_train = train.copy()\n",
    "tmp_test = test.copy()\n",
    "for k, v in count_features.iteritems():\n",
    "    tmp_train = pd.merge(tmp_train, v, on=k)\n",
    "    tmp_test = pd.merge(tmp_test, v, on=k)\n",
    "    "
   ]
  },
  {
   "cell_type": "code",
   "execution_count": 4,
   "metadata": {
    "collapsed": false
   },
   "outputs": [
    {
     "name": "stdout",
     "output_type": "stream",
     "text": [
      "variance lost:\n",
      "0.498810867841\n",
      "Wall time: 21.1 s\n"
     ]
    }
   ],
   "source": [
    "%%time\n",
    "# kmeans features\n",
    "\n",
    "from sklearn.cluster import KMeans\n",
    "from sklearn.preprocessing import StandardScaler\n",
    "\n",
    "SS = StandardScaler()\n",
    "\n",
    "kmeans = KMeans(80, random_state=12345, n_init=1)\n",
    "feat_kmeans_train = kmeans.fit_transform(SS.fit_transform(train[numeric]))\n",
    "feat_kmeans_test = kmeans.transform(SS.transform(test[numeric]))\n",
    "\n",
    "print 'variance lost:'\n",
    "print kmeans.inertia_ / KMeans(1, random_state=12345, n_init=1).fit(train[numeric]).inertia_\n",
    "\n",
    "feat_kmeans_train = pd.DataFrame(feat_kmeans_train).add_prefix('kmeans_')\n",
    "feat_kmeans_test = pd.DataFrame(feat_kmeans_test).add_prefix('kmeans_')"
   ]
  },
  {
   "cell_type": "code",
   "execution_count": 53,
   "metadata": {
    "collapsed": false
   },
   "outputs": [
    {
     "data": {
      "text/plain": [
       "encode_T1_V4     1.011131\n",
       "encode_T1_V5     1.003089\n",
       "encode_T1_V6     0.999460\n",
       "encode_T1_V7     1.025445\n",
       "encode_T1_V8     0.985815\n",
       "encode_T1_V9     1.000703\n",
       "encode_T1_V11    1.001235\n",
       "encode_T1_V12    0.987670\n",
       "encode_T1_V15    1.007230\n",
       "encode_T1_V16    1.005126\n",
       "encode_T1_V17    1.003132\n",
       "encode_T2_V3     0.998128\n",
       "encode_T2_V5     1.001219\n",
       "encode_T2_V11    1.002282\n",
       "encode_T2_V12    1.004119\n",
       "encode_T2_V13    0.994556\n",
       "dtype: float64"
      ]
     },
     "execution_count": 53,
     "metadata": {},
     "output_type": "execute_result"
    }
   ],
   "source": [
    "# categorical encoding\n",
    "from sklearn.preprocessing import StandardScaler\n",
    "\n",
    "feat_encode_train = train[categorical].copy()\n",
    "feat_encode_test = test[categorical].copy()\n",
    "\n",
    "for cat in categorical:\n",
    "    hot_deck = train.groupby(cat).Hazard.mean().reset_index().rename(columns={'Hazard': 'encode_'+cat})\n",
    "    feat_encode_train = pd.merge(feat_encode_train, hot_deck, on=cat)\n",
    "    del feat_encode_train[cat]\n",
    "    \n",
    "    feat_encode_test = pd.merge(feat_encode_test, hot_deck, on=cat)\n",
    "    del feat_encode_test[cat]\n",
    "    \n",
    "names = feat_encode_train.columns\n",
    "ss = StandardScaler()\n",
    "feat_encode_train[names] = ss.fit_transform(feat_encode_train.values)\n",
    "feat_encode_test[names] = ss.transform(feat_encode_test.values)"
   ]
  },
  {
   "cell_type": "code",
   "execution_count": 81,
   "metadata": {
    "collapsed": false
   },
   "outputs": [
    {
     "name": "stdout",
     "output_type": "stream",
     "text": [
      "Wall time: 6.86 s\n"
     ]
    }
   ],
   "source": [
    "%%time\n",
    "# reduce\n",
    "from xgboost import XGBRegressor\n",
    "import xgboost as xgb\n",
    "\n",
    "feat_reduce_train = pd.DataFrame()\n",
    "feat_reduce_test = pd.DataFrame()\n",
    "\n",
    "for num in numeric:\n",
    "    dTmp = xgb.DMatrix(train[[num]], label=train.Hazard)\n",
    "    reg = xgb.train({'max_depth':8, 'min_child_weight':30, 'objective':'reg:linear'}, dTmp, 1)\n",
    "    \n",
    "    feat_reduce_train['discrete_'+num] = reg.predict(dTmp, pred_leaf=True)\n",
    "    feat_reduce_train['discrete_'+num] = feat_reduce_train['discrete_'+num].map(str)\n",
    "    \n",
    "    feat_reduce_test['discrete_'+num] = reg.predict(xgb.DMatrix(test[[num]]), pred_leaf=True)\n",
    "    feat_reduce_test['discrete_'+num] = feat_reduce_test['discrete_'+num].map(str)"
   ]
  },
  {
   "cell_type": "code",
   "execution_count": 73,
   "metadata": {
    "collapsed": false
   },
   "outputs": [],
   "source": [
    "# discrete\n",
    "\n",
    "feat_discrete_train = train[numeric].applymap(str)\n",
    "feat_discrete_test = test[numeric].applymap(str)"
   ]
  },
  {
   "cell_type": "code",
   "execution_count": 88,
   "metadata": {
    "collapsed": false
   },
   "outputs": [],
   "source": [
    "# combine all features\n",
    "cTrain = train[numeric+categorical]\n",
    "cTest = test[numeric+categorical]\n",
    "\n",
    "# cTrain = pd.concat([train[numeric+categorical], feat_reduce_train], axis=1)\n",
    "# cTest = pd.concat([test[numeric+categorical], feat_reduce_test], axis=1)"
   ]
  }
 ],
 "metadata": {
  "kernelspec": {
   "display_name": "Python 3",
   "language": "python",
   "name": "python3"
  },
  "language_info": {
   "codemirror_mode": {
    "name": "ipython",
    "version": 3
   },
   "file_extension": ".py",
   "mimetype": "text/x-python",
   "name": "python",
   "nbconvert_exporter": "python",
   "pygments_lexer": "ipython3",
   "version": "3.4.3"
  }
 },
 "nbformat": 4,
 "nbformat_minor": 0
}
