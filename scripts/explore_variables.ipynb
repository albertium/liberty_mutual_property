{
 "cells": [
  {
   "cell_type": "code",
   "execution_count": 4,
   "metadata": {
    "collapsed": false
   },
   "outputs": [],
   "source": [
    "import pandas as pd\n",
    "import numpy as np\n",
    "%matplotlib inline\n",
    "%load_ext autoreload\n",
    "%autoreload 2"
   ]
  },
  {
   "cell_type": "code",
   "execution_count": 5,
   "metadata": {
    "collapsed": true
   },
   "outputs": [],
   "source": [
    "train = pd.read_csv('../data/train.csv')"
   ]
  },
  {
   "cell_type": "code",
   "execution_count": 9,
   "metadata": {
    "collapsed": false
   },
   "outputs": [
    {
     "data": {
      "text/plain": [
       "Id        50999\n",
       "Hazard       50\n",
       "T1_V1        19\n",
       "T1_V2        24\n",
       "T1_V3         9\n",
       "T1_V4         8\n",
       "T1_V5        10\n",
       "T1_V6         2\n",
       "T1_V7         4\n",
       "T1_V8         4\n",
       "T1_V9         6\n",
       "T1_V10        5\n",
       "T1_V11       12\n",
       "T1_V12        4\n",
       "T1_V13        4\n",
       "T1_V14        5\n",
       "T1_V15        8\n",
       "T1_V16       18\n",
       "T1_V17        2\n",
       "T2_V1       100\n",
       "T2_V2        39\n",
       "T2_V3         2\n",
       "T2_V4        22\n",
       "T2_V5         6\n",
       "T2_V6         7\n",
       "T2_V7         7\n",
       "T2_V8         3\n",
       "T2_V9        25\n",
       "T2_V10        7\n",
       "T2_V11        2\n",
       "T2_V12        2\n",
       "T2_V13        5\n",
       "T2_V14        7\n",
       "T2_V15       12\n",
       "dtype: int64"
      ]
     },
     "execution_count": 9,
     "metadata": {},
     "output_type": "execute_result"
    }
   ],
   "source": [
    "train.apply(lambda x: x.nunique())"
   ]
  },
  {
   "cell_type": "code",
   "execution_count": 30,
   "metadata": {
    "collapsed": false
   },
   "outputs": [
    {
     "name": "stdout",
     "output_type": "stream",
     "text": [
      "[[[1 2]]\n",
      "\n",
      " [[3 4]]\n",
      "\n",
      " [[5 6]]]\n",
      "[[[-1]\n",
      "  [ 0]]\n",
      "\n",
      " [[ 1]\n",
      "  [ 2]]\n",
      "\n",
      " [[ 3]\n",
      "  [ 4]]]\n"
     ]
    },
    {
     "data": {
      "text/plain": [
       "array([[-1, -2,  0,  0],\n",
       "       [ 3,  4,  6,  8],\n",
       "       [15, 18, 20, 24]])"
      ]
     },
     "execution_count": 30,
     "metadata": {},
     "output_type": "execute_result"
    }
   ],
   "source": [
    "a = np.arange(1, 7).reshape(3, 2)[:, np.newaxis, :]\n",
    "b = np.arange(-1, 5).reshape(3, 2)[:, :, np.newaxis]\n",
    "print(a)\n",
    "print(b)\n",
    "(a*b).reshape(3, -1)"
   ]
  },
  {
   "cell_type": "code",
   "execution_count": 49,
   "metadata": {
    "collapsed": false
   },
   "outputs": [
    {
     "ename": "TypeError",
     "evalue": "filter function returned a Series, but expected a scalar bool",
     "output_type": "error",
     "traceback": [
      "\u001b[1;31m---------------------------------------------------------------------------\u001b[0m",
      "\u001b[1;31mTypeError\u001b[0m                                 Traceback (most recent call last)",
      "\u001b[1;32m<ipython-input-49-04d9dfc06f19>\u001b[0m in \u001b[0;36m<module>\u001b[1;34m()\u001b[0m\n\u001b[0;32m      2\u001b[0m \u001b[0md\u001b[0m \u001b[1;33m=\u001b[0m \u001b[0mc\u001b[0m\u001b[1;33m.\u001b[0m\u001b[0mcopy\u001b[0m\u001b[1;33m(\u001b[0m\u001b[1;33m)\u001b[0m\u001b[1;33m\u001b[0m\u001b[0m\n\u001b[0;32m      3\u001b[0m \u001b[0md\u001b[0m\u001b[1;33m[\u001b[0m\u001b[1;34m'new'\u001b[0m\u001b[1;33m]\u001b[0m \u001b[1;33m=\u001b[0m \u001b[0md\u001b[0m\u001b[1;33m.\u001b[0m\u001b[0mgroupby\u001b[0m\u001b[1;33m(\u001b[0m\u001b[1;36m0\u001b[0m\u001b[1;33m)\u001b[0m\u001b[1;33m.\u001b[0m\u001b[0mtransform\u001b[0m\u001b[1;33m(\u001b[0m\u001b[0mnp\u001b[0m\u001b[1;33m.\u001b[0m\u001b[0mmean\u001b[0m\u001b[1;33m)\u001b[0m\u001b[1;33m\u001b[0m\u001b[0m\n\u001b[1;32m----> 4\u001b[1;33m \u001b[0md\u001b[0m\u001b[1;33m.\u001b[0m\u001b[0mgroupby\u001b[0m\u001b[1;33m(\u001b[0m\u001b[1;36m0\u001b[0m\u001b[1;33m)\u001b[0m\u001b[1;33m.\u001b[0m\u001b[0mfilter\u001b[0m\u001b[1;33m(\u001b[0m\u001b[1;32mlambda\u001b[0m \u001b[0mx\u001b[0m\u001b[1;33m:\u001b[0m \u001b[0mx\u001b[0m\u001b[1;33m.\u001b[0m\u001b[0mnew\u001b[0m\u001b[1;33m>=\u001b[0m\u001b[1;36m3\u001b[0m\u001b[1;33m)\u001b[0m\u001b[1;33m\u001b[0m\u001b[0m\n\u001b[0m\u001b[0;32m      5\u001b[0m \u001b[0md\u001b[0m\u001b[1;33m\u001b[0m\u001b[0m\n",
      "\u001b[1;32m/home/albertium/anaconda3/lib/python3.4/site-packages/pandas/core/groupby.py\u001b[0m in \u001b[0;36mfilter\u001b[1;34m(self, func, dropna, *args, **kwargs)\u001b[0m\n\u001b[0;32m   3153\u001b[0m                 raise TypeError(\"filter function returned a %s, \"\n\u001b[0;32m   3154\u001b[0m                                 \u001b[1;34m\"but expected a scalar bool\"\u001b[0m \u001b[1;33m%\u001b[0m\u001b[1;33m\u001b[0m\u001b[0m\n\u001b[1;32m-> 3155\u001b[1;33m                                 type(res).__name__)\n\u001b[0m\u001b[0;32m   3156\u001b[0m \u001b[1;33m\u001b[0m\u001b[0m\n\u001b[0;32m   3157\u001b[0m         \u001b[1;32mreturn\u001b[0m \u001b[0mself\u001b[0m\u001b[1;33m.\u001b[0m\u001b[0m_apply_filter\u001b[0m\u001b[1;33m(\u001b[0m\u001b[0mindices\u001b[0m\u001b[1;33m,\u001b[0m \u001b[0mdropna\u001b[0m\u001b[1;33m)\u001b[0m\u001b[1;33m\u001b[0m\u001b[0m\n",
      "\u001b[1;31mTypeError\u001b[0m: filter function returned a Series, but expected a scalar bool"
     ]
    }
   ],
   "source": [
    "c = pd.DataFrame(np.array([[1, 2], [1, 3], [2, 3], [2, 4], [3, 5], [3, 1]]))\n",
    "d = c.copy()\n",
    "d['new'] = d.groupby(0).transform(np.mean)\n",
    "d.groupby(0).filter(lambda x: x.new>=3)\n",
    "d"
   ]
  },
  {
   "cell_type": "code",
   "execution_count": null,
   "metadata": {
    "collapsed": true
   },
   "outputs": [],
   "source": [
    "\"\"\"\n",
    "things to try:\n",
    "xgb on all categorical data\n",
    "linear on interaction of numerical and categorical\n",
    "multiway encoding\n",
    "https://gonewithsuperwind.wordpress.com/2014/08/07/kaggle-competition-past-solutions/\n",
    "https://scholar.google.com/scholar?hl=en&q=kaggle&btnG=&as_sdt=1%2C33&as_sdtp=\n",
    "\"\"\""
   ]
  }
 ],
 "metadata": {
  "kernelspec": {
   "display_name": "Python 3",
   "language": "python",
   "name": "python3"
  },
  "language_info": {
   "codemirror_mode": {
    "name": "ipython",
    "version": 3
   },
   "file_extension": ".py",
   "mimetype": "text/x-python",
   "name": "python",
   "nbconvert_exporter": "python",
   "pygments_lexer": "ipython3",
   "version": "3.4.3"
  }
 },
 "nbformat": 4,
 "nbformat_minor": 0
}
