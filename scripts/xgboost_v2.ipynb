{
 "cells": [
  {
   "cell_type": "code",
   "execution_count": null,
   "metadata": {
    "collapsed": true
   },
   "outputs": [],
   "source": [
    "\"\"\"\n",
    "01, cap at .99, 0.387178, 0.384541\n",
    "\"\"\""
   ]
  },
  {
   "cell_type": "code",
   "execution_count": null,
   "metadata": {
    "collapsed": true
   },
   "outputs": [],
   "source": [
    "\"\"\"\n",
    "categorical only + various estimator\n",
    "numerical only + various estimator\n",
    "variable selection (xgb, RF) + various estimator\n",
    "numerical as categorical\n",
    "second order features\n",
    "standardize kfold transformer\n",
    "numerical as categorical + 2nd order + linear\n",
    "\"\"\""
   ]
  },
  {
   "cell_type": "code",
   "execution_count": 1,
   "metadata": {
    "collapsed": false
   },
   "outputs": [],
   "source": [
    "%load_ext autoreload\n",
    "%autoreload 2\n",
    "import pandas as pd\n",
    "import numpy as np\n",
    "import xgboost as xgb\n",
    "import vw_utils as vw\n",
    "import gini\n",
    "%matplotlib inline"
   ]
  },
  {
   "cell_type": "code",
   "execution_count": 4,
   "metadata": {
    "collapsed": false
   },
   "outputs": [
    {
     "name": "stdout",
     "output_type": "stream",
     "text": [
      "19.0\n"
     ]
    }
   ],
   "source": [
    "train = pd.read_csv('../data/train.csv')\n",
    "test = pd.read_csv('../data/test.csv')\n",
    "\n",
    "cap = train.Hazard.quantile(0.99)\n",
    "print(cap)\n",
    "\n",
    "train['Hazard_cap'] = np.minimum(train.Hazard, cap)\n",
    "\n",
    "data = pd.concat([train, test], axis=0).reset_index()\n",
    "train_set = np.hstack([np.ones(train.shape[0]), np.zeros(test.shape[0])])"
   ]
  },
  {
   "cell_type": "markdown",
   "metadata": {},
   "source": [
    "## --------------------- Feature Start -----------------------"
   ]
  },
  {
   "cell_type": "code",
   "execution_count": 5,
   "metadata": {
    "collapsed": false
   },
   "outputs": [],
   "source": [
    "# start\n",
    "categorical = ['T1_V' + str(i) for i in list(range(4, 10)) + [11, 12, 15, 16, 17]] + \\\n",
    "                ['T2_V' + str(i) for i in [3, 5, 11, 12, 13]]\n",
    "\n",
    "numerical = set(train.columns).difference(categorical + ['Hazard', 'Hazard_cap', 'Id'])\n",
    "numerical = list(numerical)"
   ]
  },
  {
   "cell_type": "code",
   "execution_count": 6,
   "metadata": {
    "collapsed": false
   },
   "outputs": [
    {
     "data": {
      "text/plain": [
       "(101999, 95)"
      ]
     },
     "execution_count": 6,
     "metadata": {},
     "output_type": "execute_result"
    }
   ],
   "source": [
    "# raw feature\n",
    "from sklearn.preprocessing import StandardScaler\n",
    "import re\n",
    "\n",
    "SS = StandardScaler()\n",
    "feat_raw = data[numerical].applymap(float)\n",
    "feat_raw[numerical] = SS.fit_transform(feat_raw[numerical])\n",
    "\n",
    "\n",
    "toDrop = re.sub('[ ]+', '_', data[categorical].ix[0, :].to_string()).split('\\n')\n",
    "feat_raw_cat = pd.get_dummies(data[categorical]).drop(toDrop, axis=1)\n",
    "\n",
    "feat_raw = pd.concat([feat_raw, feat_raw_cat], axis=1)\n",
    "feat_raw.shape"
   ]
  },
  {
   "cell_type": "code",
   "execution_count": 101,
   "metadata": {
    "collapsed": false
   },
   "outputs": [
    {
     "data": {
      "text/plain": [
       "[3513, 3513, 7949, 7949, 7949, ..., 3513, 7949, 3357, 3513, 3513]\n",
       "Length: 101999\n",
       "Categories (12, int64): [738, 3513, 4211, 3357, ..., 3363, 7908, 6272, 9941]"
      ]
     },
     "execution_count": 101,
     "metadata": {},
     "output_type": "execute_result"
    }
   ],
   "source": [
    "# count features\n",
    "a = data.copy()\n",
    "tmp = data.T1_V11.astype('category')\n",
    "tmp = tmp.cat.rename_categories(np.random.randint(0, 10000, 12))\n",
    "tmp.values"
   ]
  },
  {
   "cell_type": "code",
   "execution_count": 7,
   "metadata": {
    "collapsed": false
   },
   "outputs": [
    {
     "name": "stdout",
     "output_type": "stream",
     "text": [
      "(50999, 95)\n",
      "(51000, 95)\n"
     ]
    }
   ],
   "source": [
    "# assemble features\n",
    "\n",
    "tmp = pd.concat([feat_raw], axis=1)\n",
    "train_c = tmp[train_set==1]\n",
    "test_c = tmp[train_set==0]\n",
    "\n",
    "print(train_c.shape)\n",
    "print(test_c.shape)"
   ]
  },
  {
   "cell_type": "markdown",
   "metadata": {},
   "source": [
    "## --------------------- Modeling -----------------------"
   ]
  },
  {
   "cell_type": "code",
   "execution_count": 12,
   "metadata": {
    "collapsed": false,
    "scrolled": true
   },
   "outputs": [
    {
     "name": "stdout",
     "output_type": "stream",
     "text": [
      "1\n",
      "2\n",
      "3\n",
      "4\n",
      "5\n",
      "6\n",
      "7\n",
      "8\n",
      "9\n",
      "10\n",
      "0.385757196261\n",
      "CPU times: user 9min 17s, sys: 1.61 s, total: 9min 19s\n",
      "Wall time: 2min 26s\n"
     ]
    }
   ],
   "source": [
    "%%time\n",
    "\n",
    "import gini\n",
    "import xgboost as xgb\n",
    "from sklearn.ensemble import RandomForestRegressor\n",
    "from sklearn.cross_validation import KFold\n",
    "\n",
    "param = {'max_depth':7, 'eta':0.01, 'objective':'reg:linear',\n",
    "         'gamma':0, 'min_child_weight': 30, 'subsample': 0.8,\n",
    "         'colsample_bytree': 0.5}\n",
    "\n",
    "scores = []\n",
    "time = 1\n",
    "for idx_train, idx_test in KFold(train.shape[0], 10):\n",
    "    print(time)\n",
    "    time += 1\n",
    "    dTrain = xgb.DMatrix(train_c.ix[idx_train], label=train.Hazard_cap[idx_train])\n",
    "    dTest = xgb.DMatrix(train_c.ix[idx_test])\n",
    "    model = xgb.train(param, dTrain, 1000)\n",
    "    pred = model.predict(dTest)\n",
    "    scores.append(gini.normalized_gini(train.Hazard[idx_test], pred))\n",
    "\n",
    "print(np.mean(scores))"
   ]
  },
  {
   "cell_type": "code",
   "execution_count": 13,
   "metadata": {
    "collapsed": false
   },
   "outputs": [
    {
     "name": "stdout",
     "output_type": "stream",
     "text": [
      "CPU times: user 59.4 s, sys: 180 ms, total: 59.6 s\n",
      "Wall time: 16.1 s\n"
     ]
    }
   ],
   "source": [
    "%%time\n",
    "\n",
    "import gini\n",
    "import xgboost as xgb\n",
    "\n",
    "param = {'max_depth':7, 'eta':0.01, 'objective':'reg:linear',\n",
    "         'gamma':0, 'min_child_weight': 30, 'subsample': 0.8,\n",
    "         'colsample_bytree': 0.5}\n",
    "\n",
    "dTrain = xgb.DMatrix(train_c, label=train.Hazard_cap)\n",
    "dTest = xgb.DMatrix(test_c)\n",
    "model = xgb.train(param, dTrain, 1000)\n",
    "yhat = model.predict(dTest)\n",
    "\n",
    "(pd.DataFrame({'Id': test.Id, 'Hazard': yhat})\n",
    " .reindex_axis(['Id', 'Hazard'], 1)\n",
    " .to_csv('../output/xgb_v2_01.csv', index=0))"
   ]
  },
  {
   "cell_type": "code",
   "execution_count": 44,
   "metadata": {
    "collapsed": true
   },
   "outputs": [],
   "source": [
    "pd.DataFrame({'Id': test.Id, 'Hazard': yhat}).reindex_axis(['Id', 'Hazard'], 1).to_csv('../output/ensemble_07.csv', index=0)"
   ]
  }
 ],
 "metadata": {
  "kernelspec": {
   "display_name": "Python 3",
   "language": "python",
   "name": "python3"
  },
  "language_info": {
   "codemirror_mode": {
    "name": "ipython",
    "version": 3
   },
   "file_extension": ".py",
   "mimetype": "text/x-python",
   "name": "python",
   "nbconvert_exporter": "python",
   "pygments_lexer": "ipython3",
   "version": "3.4.3"
  }
 },
 "nbformat": 4,
 "nbformat_minor": 0
}
