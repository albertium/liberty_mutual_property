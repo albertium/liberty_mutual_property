{
 "cells": [
  {
   "cell_type": "code",
   "execution_count": null,
   "metadata": {
    "collapsed": true
   },
   "outputs": [],
   "source": [
    "\"\"\"\n",
    "count seems to decrease score\n",
    "full interactions seems too much\n",
    "\n",
    "features, shape, iter, cv, public\n",
    "\n",
    "\"\"\""
   ]
  },
  {
   "cell_type": "code",
   "execution_count": 1,
   "metadata": {
    "collapsed": false
   },
   "outputs": [],
   "source": [
    "%load_ext autoreload\n",
    "%autoreload 2\n",
    "import pandas as pd\n",
    "import numpy as np\n",
    "import xgboost as xgb\n",
    "import vw_utils as vw\n",
    "import gini\n",
    "%matplotlib inline"
   ]
  },
  {
   "cell_type": "code",
   "execution_count": 2,
   "metadata": {
    "collapsed": false
   },
   "outputs": [],
   "source": [
    "train = pd.read_csv('../data/train.csv')\n",
    "test = pd.read_csv('../data/test.csv')\n",
    "\n",
    "train['train_set'] = 1\n",
    "test['train_set'] = 0\n",
    "\n",
    "data = pd.concat([train, test], axis=0).reset_index()"
   ]
  },
  {
   "cell_type": "markdown",
   "metadata": {},
   "source": [
    "## --------------------- Feature Start -----------------------"
   ]
  },
  {
   "cell_type": "code",
   "execution_count": 3,
   "metadata": {
    "collapsed": false
   },
   "outputs": [],
   "source": [
    "# start\n",
    "categorical = ['T1_V' + str(i) for i in list(range(4, 10)) + [11, 12, 15, 16, 17]] + \\\n",
    "                ['T2_V' + str(i) for i in [3, 5, 11, 12, 13]]\n",
    "\n",
    "numerical = set(train.columns).difference(categorical + ['Hazard', 'Id'])\n",
    "numerical = list(numerical)"
   ]
  },
  {
   "cell_type": "code",
   "execution_count": 4,
   "metadata": {
    "collapsed": false
   },
   "outputs": [
    {
     "name": "stderr",
     "output_type": "stream",
     "text": [
      "/home/albertium/anaconda3/lib/python3.4/site-packages/sklearn/utils/validation.py:498: UserWarning: StandardScaler assumes floating point values as input, got int64\n",
      "  \"got %s\" % (estimator, X.dtype))\n",
      "/home/albertium/anaconda3/lib/python3.4/site-packages/IPython/kernel/__main__.py:7: SettingWithCopyWarning: \n",
      "A value is trying to be set on a copy of a slice from a DataFrame.\n",
      "Try using .loc[row_indexer,col_indexer] = value instead\n",
      "\n",
      "See the the caveats in the documentation: http://pandas.pydata.org/pandas-docs/stable/indexing.html#indexing-view-versus-copy\n",
      "/home/albertium/anaconda3/lib/python3.4/site-packages/pandas/core/indexing.py:415: SettingWithCopyWarning: \n",
      "A value is trying to be set on a copy of a slice from a DataFrame.\n",
      "Try using .loc[row_indexer,col_indexer] = value instead\n",
      "\n",
      "See the the caveats in the documentation: http://pandas.pydata.org/pandas-docs/stable/indexing.html#indexing-view-versus-copy\n",
      "  self.obj[item] = s\n"
     ]
    },
    {
     "data": {
      "text/plain": [
       "(101999, 96)"
      ]
     },
     "execution_count": 4,
     "metadata": {},
     "output_type": "execute_result"
    }
   ],
   "source": [
    "# raw feature\n",
    "from sklearn.preprocessing import StandardScaler\n",
    "import re\n",
    "\n",
    "SS = StandardScaler()\n",
    "feat_raw = data[numerical]\n",
    "feat_raw[numerical] = SS.fit_transform(feat_raw[numerical])\n",
    "\n",
    "\n",
    "toDrop = re.sub('[ ]+', '_', data[categorical].ix[0, :].to_string()).split('\\n')\n",
    "feat_raw_2 = pd.get_dummies(data[categorical]).drop(toDrop, axis=1)\n",
    "\n",
    "feat_raw = pd.concat([feat_raw, feat_raw_2], axis=1)\n",
    "feat_raw.shape"
   ]
  },
  {
   "cell_type": "code",
   "execution_count": 18,
   "metadata": {
    "collapsed": false
   },
   "outputs": [
    {
     "name": "stdout",
     "output_type": "stream",
     "text": [
      "extract percent:  853192.0\n",
      "sparcity:  0.695033872881\n",
      "(101999, 100)\n",
      "CPU times: user 6.6 s, sys: 1.11 s, total: 7.71 s\n",
      "Wall time: 14.5 s\n"
     ]
    }
   ],
   "source": [
    "%%time\n",
    "# sofia feature\n",
    "from sofia_utils import sofia_kmeans\n",
    "\n",
    "n_clusters = 100\n",
    "\n",
    "sofia = sofia_kmeans(n_clusters=n_clusters, iterations=1000, mapping_threshold=0.0001)\n",
    "\n",
    "feat_sofia = sofia.fit_transform(data[numerical])\n",
    "\n",
    "feature_names = ['sofia_'+str(i+1) for i in range(n_clusters)]\n",
    "feat_sofia = pd.DataFrame(feat_sofia, columns=feature_names)\n",
    "print(feat_sofia.shape)"
   ]
  },
  {
   "cell_type": "code",
   "execution_count": 19,
   "metadata": {
    "collapsed": false
   },
   "outputs": [],
   "source": [
    "from sklearn.preprocessing import MinMaxScaler\n",
    "MMS = MinMaxScaler()\n",
    "feat_sofia.ix[:, :] = MMS.fit_transform(feat_sofia.values)"
   ]
  },
  {
   "cell_type": "code",
   "execution_count": 20,
   "metadata": {
    "collapsed": false
   },
   "outputs": [
    {
     "name": "stdout",
     "output_type": "stream",
     "text": [
      "(50999, 196)\n",
      "CPU times: user 244 ms, sys: 36 ms, total: 280 ms\n",
      "Wall time: 281 ms\n"
     ]
    }
   ],
   "source": [
    "%%time\n",
    "from sklearn.feature_extraction import DictVectorizer\n",
    "\n",
    "# feat_train = pd.concat([feat_raw_train, feat_sofia_train], axis=1)\n",
    "# feat_test = pd.concat([feat_raw_test, feat_sofia_test], axis=1)\n",
    "\n",
    "# DV = DictVectorizer(sparse=False)\n",
    "# train_c = DV.fit_transform(feat_train.T.to_dict().values())\n",
    "# test_c = DV.transform(feat_test.T.to_dict().values())\n",
    "\n",
    "train_c = pd.concat([feat_raw, feat_sofia], axis=1)\n",
    "train_c = train_c[data.train_set==1]\n",
    "\n",
    "print(train_c.shape)"
   ]
  },
  {
   "cell_type": "markdown",
   "metadata": {},
   "source": [
    "## --------------------- Feature End -----------------------"
   ]
  },
  {
   "cell_type": "code",
   "execution_count": 22,
   "metadata": {
    "collapsed": false,
    "scrolled": true
   },
   "outputs": [
    {
     "name": "stdout",
     "output_type": "stream",
     "text": [
      "0.327198846066\n",
      "CPU times: user 8.24 s, sys: 248 ms, total: 8.49 s\n",
      "Wall time: 8.49 s\n"
     ]
    }
   ],
   "source": [
    "%%time\n",
    "# with sofia: 0.32307\n",
    "# with 50 sofia: 0.32745\n",
    "# with 100 sofia: \n",
    "# base: 0.32529\n",
    "from sklearn.linear_model import SGDRegressor\n",
    "from sklearn.cross_validation import cross_val_score\n",
    "import gini\n",
    "from sklearn.metrics import mean_squared_error\n",
    "\n",
    "regressor = SGDRegressor(loss='squared_loss', penalty='l2', alpha=1E-5, n_iter=10)\n",
    "scores = cross_val_score(regressor, train_c, train.Hazard.values, cv=20, scoring=gini.normalized_gini_score)\n",
    "print(scores.mean())"
   ]
  },
  {
   "cell_type": "code",
   "execution_count": 103,
   "metadata": {
    "collapsed": false
   },
   "outputs": [
    {
     "name": "stdout",
     "output_type": "stream",
     "text": [
      "0.369066286897\n",
      "CPU times: user 1.72 s, sys: 736 ms, total: 2.46 s\n",
      "Wall time: 9min 1s\n"
     ]
    }
   ],
   "source": [
    "%%time\n",
    "# 0.36597\n",
    "# with sofia: 0.36420\n",
    "# base: 0.36906\n",
    "from sklearn.ensemble import RandomForestRegressor\n",
    "from sklearn.cross_validation import cross_val_score\n",
    "\n",
    "RFR = RandomForestRegressor(n_estimators=1000, max_features='sqrt', min_samples_leaf=5, oob_score=True, n_jobs=-1)\n",
    "scores = cross_val_score(RFR, train_c, train.Hazard.values, cv=10, scoring=gini.normalized_gini_score, n_jobs=-1)\n",
    "print(scores.mean())"
   ]
  },
  {
   "cell_type": "code",
   "execution_count": 77,
   "metadata": {
    "collapsed": false
   },
   "outputs": [],
   "source": [
    "model = 'linear1'\n",
    "yhat = np.loadtxt('../tmp/{}/out'.format(model))\n",
    "pd.DataFrame({'Id': ID, 'Hazard': yhat}).reindex_axis(['Id', 'Hazard'], 1).to_csv('../output/lin01.csv', index=0)"
   ]
  },
  {
   "cell_type": "markdown",
   "metadata": {},
   "source": [
    "## --------------------- Factory -----------------------"
   ]
  },
  {
   "cell_type": "code",
   "execution_count": 6,
   "metadata": {
    "collapsed": false
   },
   "outputs": [
    {
     "name": "stdout",
     "output_type": "stream",
     "text": [
      "(50999, 6216)\n",
      "CPU times: user 6.03 s, sys: 2.56 s, total: 8.59 s\n",
      "Wall time: 8.59 s\n"
     ]
    }
   ],
   "source": [
    "%%time\n",
    "from sklearn.preprocessing import PolynomialFeatures\n",
    "\n",
    "PF = PolynomialFeatures(degree=2, interaction_only=True, include_bias=False)\n",
    "train_c = PF.fit_transform(train_c)\n",
    "print(train_c.shape)"
   ]
  },
  {
   "cell_type": "code",
   "execution_count": 75,
   "metadata": {
    "collapsed": false
   },
   "outputs": [
    {
     "name": "stdout",
     "output_type": "stream",
     "text": [
      "CPU times: user 14.5 s, sys: 4 ms, total: 14.5 s\n",
      "Wall time: 14.5 s\n"
     ]
    },
    {
     "name": "stderr",
     "output_type": "stream",
     "text": [
      "/home/albertium/anaconda3/lib/python3.4/site-packages/sklearn/utils/validation.py:498: UserWarning: StandardScaler assumes floating point values as input, got int64\n",
      "  \"got %s\" % (estimator, X.dtype))\n"
     ]
    }
   ],
   "source": [
    "%%time\n",
    "# kmeans features\n",
    "\n",
    "from sklearn.cluster import KMeans\n",
    "from sklearn.preprocessing import StandardScaler\n",
    "\n",
    "SS = StandardScaler()\n",
    "\n",
    "kmeans = KMeans(80, random_state=12345, n_init=1)\n",
    "feat_kmeans_train = kmeans.fit_transform(SS.fit_transform(train[numerical]))\n",
    "feat_kmeans_test = kmeans.transform(SS.transform(test[numerical]))\n",
    "\n",
    "# print('variance lost:')\n",
    "# print(kmeans.inertia_ / KMeans(1, random_state=12345, n_init=1).fit(train[numerical]).inertia_)\n",
    "\n",
    "feat_kmeans_train = pd.DataFrame(feat_kmeans_train).add_prefix('kmeans_')\n",
    "feat_kmeans_test = pd.DataFrame(feat_kmeans_test).add_prefix('kmeans_')\n",
    "\n",
    "numerical += feat_kmeans_train.columns.values.tolist()\n",
    "train_c = pd.concat([train_c, feat_kmeans_train], axis=1)\n",
    "test_c = pd.concat([test_c, feat_kmeans_test], axis=1)"
   ]
  },
  {
   "cell_type": "code",
   "execution_count": 49,
   "metadata": {
    "collapsed": false
   },
   "outputs": [],
   "source": [
    "# count features\n",
    "\n",
    "feat_count_train = train[categorical].copy()\n",
    "feat_count_test = test[categorical].copy()\n",
    "\n",
    "for cat in categorical:\n",
    "    numerical.append('cnt_'+cat)\n",
    "    hotDeck = train[cat].value_counts().reset_index().rename(columns={'index': cat, 0: 'cnt_'+cat})\n",
    "    feat_count_train = pd.merge(feat_count_train, hotDeck, on=cat)\n",
    "    del feat_count_train[cat]\n",
    "    \n",
    "    feat_count_test = pd.merge(feat_count_test, hotDeck, on=cat)\n",
    "    del feat_count_test[cat]\n",
    "    \n",
    "train_c = pd.concat([train_c, feat_count_train], axis=1)\n",
    "test_c = pd.concat([test_c, feat_count_test], axis=1)"
   ]
  },
  {
   "cell_type": "code",
   "execution_count": 53,
   "metadata": {
    "collapsed": false
   },
   "outputs": [
    {
     "data": {
      "text/plain": [
       "encode_T1_V4     1.011131\n",
       "encode_T1_V5     1.003089\n",
       "encode_T1_V6     0.999460\n",
       "encode_T1_V7     1.025445\n",
       "encode_T1_V8     0.985815\n",
       "encode_T1_V9     1.000703\n",
       "encode_T1_V11    1.001235\n",
       "encode_T1_V12    0.987670\n",
       "encode_T1_V15    1.007230\n",
       "encode_T1_V16    1.005126\n",
       "encode_T1_V17    1.003132\n",
       "encode_T2_V3     0.998128\n",
       "encode_T2_V5     1.001219\n",
       "encode_T2_V11    1.002282\n",
       "encode_T2_V12    1.004119\n",
       "encode_T2_V13    0.994556\n",
       "dtype: float64"
      ]
     },
     "execution_count": 53,
     "metadata": {},
     "output_type": "execute_result"
    }
   ],
   "source": [
    "# categorical encoding\n",
    "from sklearn.preprocessing import StandardScaler\n",
    "\n",
    "feat_encode_train = train[categorical].copy()\n",
    "feat_encode_test = test[categorical].copy()\n",
    "\n",
    "for cat in categorical:\n",
    "    hot_deck = train.groupby(cat).Hazard.mean().reset_index().rename(columns={'Hazard': 'encode_'+cat})\n",
    "    feat_encode_train = pd.merge(feat_encode_train, hot_deck, on=cat)\n",
    "    del feat_encode_train[cat]\n",
    "    \n",
    "    feat_encode_test = pd.merge(feat_encode_test, hot_deck, on=cat)\n",
    "    del feat_encode_test[cat]\n",
    "    \n",
    "names = feat_encode_train.columns\n",
    "ss = StandardScaler()\n",
    "feat_encode_train[names] = ss.fit_transform(feat_encode_train.values)\n",
    "feat_encode_test[names] = ss.transform(feat_encode_test.values)"
   ]
  },
  {
   "cell_type": "code",
   "execution_count": 81,
   "metadata": {
    "collapsed": false
   },
   "outputs": [
    {
     "name": "stdout",
     "output_type": "stream",
     "text": [
      "Wall time: 6.86 s\n"
     ]
    }
   ],
   "source": [
    "%%time\n",
    "# reduce\n",
    "from xgboost import XGBRegressor\n",
    "import xgboost as xgb\n",
    "\n",
    "feat_reduce_train = pd.DataFrame()\n",
    "feat_reduce_test = pd.DataFrame()\n",
    "\n",
    "for num in numerical:\n",
    "    dTmp = xgb.DMatrix(train[[num]], label=train.Hazard)\n",
    "    reg = xgb.train({'max_depth':8, 'min_child_weight':30, 'objective':'reg:linear'}, dTmp, 1)\n",
    "    \n",
    "    feat_reduce_train['discrete_'+num] = reg.predict(dTmp, pred_leaf=True)\n",
    "    feat_reduce_train['discrete_'+num] = feat_reduce_train['discrete_'+num].map(str)\n",
    "    \n",
    "    feat_reduce_test['discrete_'+num] = reg.predict(xgb.DMatrix(test[[num]]), pred_leaf=True)\n",
    "    feat_reduce_test['discrete_'+num] = feat_reduce_test['discrete_'+num].map(str)"
   ]
  },
  {
   "cell_type": "code",
   "execution_count": 73,
   "metadata": {
    "collapsed": false
   },
   "outputs": [],
   "source": [
    "# discrete\n",
    "\n",
    "feat_discrete_train = train[numerical].applymap(str)\n",
    "feat_discrete_test = test[numerical].applymap(str)"
   ]
  },
  {
   "cell_type": "code",
   "execution_count": 88,
   "metadata": {
    "collapsed": false
   },
   "outputs": [],
   "source": [
    "# combine all features\n",
    "cTrain = train[numerical+categorical]\n",
    "cTest = test[numerical+categorical]\n",
    "\n",
    "# cTrain = pd.concat([train[numerical+categorical], feat_reduce_train], axis=1)\n",
    "# cTest = pd.concat([test[numerical+categorical], feat_reduce_test], axis=1)"
   ]
  }
 ],
 "metadata": {
  "kernelspec": {
   "display_name": "Python 3",
   "language": "python",
   "name": "python3"
  },
  "language_info": {
   "codemirror_mode": {
    "name": "ipython",
    "version": 3
   },
   "file_extension": ".py",
   "mimetype": "text/x-python",
   "name": "python",
   "nbconvert_exporter": "python",
   "pygments_lexer": "ipython3",
   "version": "3.4.3"
  }
 },
 "nbformat": 4,
 "nbformat_minor": 0
}
